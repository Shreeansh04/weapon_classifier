{
  "nbformat": 4,
  "nbformat_minor": 0,
  "metadata": {
    "colab": {
      "provenance": [],
      "authorship_tag": "ABX9TyPoIBVGHNLTpx69O7/0rMvz",
      "include_colab_link": true
    },
    "kernelspec": {
      "name": "python3",
      "display_name": "Python 3"
    },
    "language_info": {
      "name": "python"
    },
    "widgets": {
      "application/vnd.jupyter.widget-state+json": {
        "1b8e9abd9b62438abb20d3ed642d6776": {
          "model_module": "@jupyter-widgets/output",
          "model_name": "OutputModel",
          "model_module_version": "1.0.0",
          "state": {
            "_dom_classes": [],
            "_model_module": "@jupyter-widgets/output",
            "_model_module_version": "1.0.0",
            "_model_name": "OutputModel",
            "_view_count": null,
            "_view_module": "@jupyter-widgets/output",
            "_view_module_version": "1.0.0",
            "_view_name": "OutputView",
            "layout": "IPY_MODEL_0f14464fc95a499eb221e2941bd6a190",
            "msg_id": "",
            "outputs": [
              {
                "output_type": "display_data",
                "data": {
                  "text/plain": "<PIL.Image.Image image mode=RGB size=128x88>",
                  "image/png": "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\n",
                  "image/jpeg": "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\n"
                },
                "metadata": {}
              }
            ]
          }
        },
        "0f14464fc95a499eb221e2941bd6a190": {
          "model_module": "@jupyter-widgets/base",
          "model_name": "LayoutModel",
          "model_module_version": "1.2.0",
          "state": {
            "_model_module": "@jupyter-widgets/base",
            "_model_module_version": "1.2.0",
            "_model_name": "LayoutModel",
            "_view_count": null,
            "_view_module": "@jupyter-widgets/base",
            "_view_module_version": "1.2.0",
            "_view_name": "LayoutView",
            "align_content": null,
            "align_items": null,
            "align_self": null,
            "border": null,
            "bottom": null,
            "display": null,
            "flex": null,
            "flex_flow": null,
            "grid_area": null,
            "grid_auto_columns": null,
            "grid_auto_flow": null,
            "grid_auto_rows": null,
            "grid_column": null,
            "grid_gap": null,
            "grid_row": null,
            "grid_template_areas": null,
            "grid_template_columns": null,
            "grid_template_rows": null,
            "height": null,
            "justify_content": null,
            "justify_items": null,
            "left": null,
            "margin": null,
            "max_height": null,
            "max_width": null,
            "min_height": null,
            "min_width": null,
            "object_fit": null,
            "object_position": null,
            "order": null,
            "overflow": null,
            "overflow_x": null,
            "overflow_y": null,
            "padding": null,
            "right": null,
            "top": null,
            "visibility": null,
            "width": null
          }
        },
        "023c217e90a14453a4bddc33695ca988": {
          "model_module": "@jupyter-widgets/controls",
          "model_name": "ButtonModel",
          "model_module_version": "1.5.0",
          "state": {
            "_dom_classes": [],
            "_model_module": "@jupyter-widgets/controls",
            "_model_module_version": "1.5.0",
            "_model_name": "ButtonModel",
            "_view_count": null,
            "_view_module": "@jupyter-widgets/controls",
            "_view_module_version": "1.5.0",
            "_view_name": "ButtonView",
            "button_style": "",
            "description": "Classify",
            "disabled": false,
            "icon": "",
            "layout": "IPY_MODEL_ad01d7b020a44b4f8f00ce6a201ca07e",
            "style": "IPY_MODEL_d1c6be4ddbdc4dfaba190cc0573f5163",
            "tooltip": ""
          }
        },
        "ad01d7b020a44b4f8f00ce6a201ca07e": {
          "model_module": "@jupyter-widgets/base",
          "model_name": "LayoutModel",
          "model_module_version": "1.2.0",
          "state": {
            "_model_module": "@jupyter-widgets/base",
            "_model_module_version": "1.2.0",
            "_model_name": "LayoutModel",
            "_view_count": null,
            "_view_module": "@jupyter-widgets/base",
            "_view_module_version": "1.2.0",
            "_view_name": "LayoutView",
            "align_content": null,
            "align_items": null,
            "align_self": null,
            "border": null,
            "bottom": null,
            "display": null,
            "flex": null,
            "flex_flow": null,
            "grid_area": null,
            "grid_auto_columns": null,
            "grid_auto_flow": null,
            "grid_auto_rows": null,
            "grid_column": null,
            "grid_gap": null,
            "grid_row": null,
            "grid_template_areas": null,
            "grid_template_columns": null,
            "grid_template_rows": null,
            "height": null,
            "justify_content": null,
            "justify_items": null,
            "left": null,
            "margin": null,
            "max_height": null,
            "max_width": null,
            "min_height": null,
            "min_width": null,
            "object_fit": null,
            "object_position": null,
            "order": null,
            "overflow": null,
            "overflow_x": null,
            "overflow_y": null,
            "padding": null,
            "right": null,
            "top": null,
            "visibility": null,
            "width": null
          }
        },
        "d1c6be4ddbdc4dfaba190cc0573f5163": {
          "model_module": "@jupyter-widgets/controls",
          "model_name": "ButtonStyleModel",
          "model_module_version": "1.5.0",
          "state": {
            "_model_module": "@jupyter-widgets/controls",
            "_model_module_version": "1.5.0",
            "_model_name": "ButtonStyleModel",
            "_view_count": null,
            "_view_module": "@jupyter-widgets/base",
            "_view_module_version": "1.2.0",
            "_view_name": "StyleView",
            "button_color": null,
            "font_weight": ""
          }
        },
        "ac6645fd62f94d6c942d06c1b223fff8": {
          "model_module": "@jupyter-widgets/controls",
          "model_name": "VBoxModel",
          "model_module_version": "1.5.0",
          "state": {
            "_dom_classes": [],
            "_model_module": "@jupyter-widgets/controls",
            "_model_module_version": "1.5.0",
            "_model_name": "VBoxModel",
            "_view_count": null,
            "_view_module": "@jupyter-widgets/controls",
            "_view_module_version": "1.5.0",
            "_view_name": "VBoxView",
            "box_style": "",
            "children": [
              "IPY_MODEL_975572900e2b4b1dab360bb32954251e",
              "IPY_MODEL_6d833be5113540d993da02a66001cdb8",
              "IPY_MODEL_023c217e90a14453a4bddc33695ca988",
              "IPY_MODEL_1b8e9abd9b62438abb20d3ed642d6776",
              "IPY_MODEL_7ed1821a9e1646a9ad88e7cac6afd577"
            ],
            "layout": "IPY_MODEL_54f69f85122d45b9be4251e67da5df29"
          }
        },
        "975572900e2b4b1dab360bb32954251e": {
          "model_module": "@jupyter-widgets/controls",
          "model_name": "LabelModel",
          "model_module_version": "1.5.0",
          "state": {
            "_dom_classes": [],
            "_model_module": "@jupyter-widgets/controls",
            "_model_module_version": "1.5.0",
            "_model_name": "LabelModel",
            "_view_count": null,
            "_view_module": "@jupyter-widgets/controls",
            "_view_module_version": "1.5.0",
            "_view_name": "LabelView",
            "description": "",
            "description_tooltip": null,
            "layout": "IPY_MODEL_95f11bf9d3fb45cebc20ee81180fc172",
            "placeholder": "​",
            "style": "IPY_MODEL_69814e7178a34cbc84151a202e5dc345",
            "value": "Select your weapon!"
          }
        },
        "6d833be5113540d993da02a66001cdb8": {
          "model_module": "@jupyter-widgets/controls",
          "model_name": "FileUploadModel",
          "model_module_version": "1.5.0",
          "state": {
            "_counter": 0,
            "_dom_classes": [],
            "_model_module": "@jupyter-widgets/controls",
            "_model_module_version": "1.5.0",
            "_model_name": "FileUploadModel",
            "_view_count": null,
            "_view_module": "@jupyter-widgets/controls",
            "_view_module_version": "1.5.0",
            "_view_name": "FileUploadView",
            "accept": "",
            "button_style": "",
            "data": [],
            "description": "Upload",
            "description_tooltip": null,
            "disabled": false,
            "error": "",
            "icon": "upload",
            "layout": "IPY_MODEL_a805909fbf1249ceafc61a810d60a507",
            "metadata": [],
            "multiple": false,
            "style": "IPY_MODEL_a233273f7eae4974951c1c263d05be33"
          }
        },
        "7ed1821a9e1646a9ad88e7cac6afd577": {
          "model_module": "@jupyter-widgets/controls",
          "model_name": "LabelModel",
          "model_module_version": "1.5.0",
          "state": {
            "_dom_classes": [],
            "_model_module": "@jupyter-widgets/controls",
            "_model_module_version": "1.5.0",
            "_model_name": "LabelModel",
            "_view_count": null,
            "_view_module": "@jupyter-widgets/controls",
            "_view_module_version": "1.5.0",
            "_view_name": "LabelView",
            "description": "",
            "description_tooltip": null,
            "layout": "IPY_MODEL_eeee6fd8f2634699b5b01d1ee16008d5",
            "placeholder": "​",
            "style": "IPY_MODEL_c67246bccf56404ab79800120da712c6",
            "value": ""
          }
        },
        "54f69f85122d45b9be4251e67da5df29": {
          "model_module": "@jupyter-widgets/base",
          "model_name": "LayoutModel",
          "model_module_version": "1.2.0",
          "state": {
            "_model_module": "@jupyter-widgets/base",
            "_model_module_version": "1.2.0",
            "_model_name": "LayoutModel",
            "_view_count": null,
            "_view_module": "@jupyter-widgets/base",
            "_view_module_version": "1.2.0",
            "_view_name": "LayoutView",
            "align_content": null,
            "align_items": null,
            "align_self": null,
            "border": null,
            "bottom": null,
            "display": null,
            "flex": null,
            "flex_flow": null,
            "grid_area": null,
            "grid_auto_columns": null,
            "grid_auto_flow": null,
            "grid_auto_rows": null,
            "grid_column": null,
            "grid_gap": null,
            "grid_row": null,
            "grid_template_areas": null,
            "grid_template_columns": null,
            "grid_template_rows": null,
            "height": null,
            "justify_content": null,
            "justify_items": null,
            "left": null,
            "margin": null,
            "max_height": null,
            "max_width": null,
            "min_height": null,
            "min_width": null,
            "object_fit": null,
            "object_position": null,
            "order": null,
            "overflow": null,
            "overflow_x": null,
            "overflow_y": null,
            "padding": null,
            "right": null,
            "top": null,
            "visibility": null,
            "width": null
          }
        },
        "95f11bf9d3fb45cebc20ee81180fc172": {
          "model_module": "@jupyter-widgets/base",
          "model_name": "LayoutModel",
          "model_module_version": "1.2.0",
          "state": {
            "_model_module": "@jupyter-widgets/base",
            "_model_module_version": "1.2.0",
            "_model_name": "LayoutModel",
            "_view_count": null,
            "_view_module": "@jupyter-widgets/base",
            "_view_module_version": "1.2.0",
            "_view_name": "LayoutView",
            "align_content": null,
            "align_items": null,
            "align_self": null,
            "border": null,
            "bottom": null,
            "display": null,
            "flex": null,
            "flex_flow": null,
            "grid_area": null,
            "grid_auto_columns": null,
            "grid_auto_flow": null,
            "grid_auto_rows": null,
            "grid_column": null,
            "grid_gap": null,
            "grid_row": null,
            "grid_template_areas": null,
            "grid_template_columns": null,
            "grid_template_rows": null,
            "height": null,
            "justify_content": null,
            "justify_items": null,
            "left": null,
            "margin": null,
            "max_height": null,
            "max_width": null,
            "min_height": null,
            "min_width": null,
            "object_fit": null,
            "object_position": null,
            "order": null,
            "overflow": null,
            "overflow_x": null,
            "overflow_y": null,
            "padding": null,
            "right": null,
            "top": null,
            "visibility": null,
            "width": null
          }
        },
        "69814e7178a34cbc84151a202e5dc345": {
          "model_module": "@jupyter-widgets/controls",
          "model_name": "DescriptionStyleModel",
          "model_module_version": "1.5.0",
          "state": {
            "_model_module": "@jupyter-widgets/controls",
            "_model_module_version": "1.5.0",
            "_model_name": "DescriptionStyleModel",
            "_view_count": null,
            "_view_module": "@jupyter-widgets/base",
            "_view_module_version": "1.2.0",
            "_view_name": "StyleView",
            "description_width": ""
          }
        },
        "a805909fbf1249ceafc61a810d60a507": {
          "model_module": "@jupyter-widgets/base",
          "model_name": "LayoutModel",
          "model_module_version": "1.2.0",
          "state": {
            "_model_module": "@jupyter-widgets/base",
            "_model_module_version": "1.2.0",
            "_model_name": "LayoutModel",
            "_view_count": null,
            "_view_module": "@jupyter-widgets/base",
            "_view_module_version": "1.2.0",
            "_view_name": "LayoutView",
            "align_content": null,
            "align_items": null,
            "align_self": null,
            "border": null,
            "bottom": null,
            "display": null,
            "flex": null,
            "flex_flow": null,
            "grid_area": null,
            "grid_auto_columns": null,
            "grid_auto_flow": null,
            "grid_auto_rows": null,
            "grid_column": null,
            "grid_gap": null,
            "grid_row": null,
            "grid_template_areas": null,
            "grid_template_columns": null,
            "grid_template_rows": null,
            "height": null,
            "justify_content": null,
            "justify_items": null,
            "left": null,
            "margin": null,
            "max_height": null,
            "max_width": null,
            "min_height": null,
            "min_width": null,
            "object_fit": null,
            "object_position": null,
            "order": null,
            "overflow": null,
            "overflow_x": null,
            "overflow_y": null,
            "padding": null,
            "right": null,
            "top": null,
            "visibility": null,
            "width": null
          }
        },
        "a233273f7eae4974951c1c263d05be33": {
          "model_module": "@jupyter-widgets/controls",
          "model_name": "ButtonStyleModel",
          "model_module_version": "1.5.0",
          "state": {
            "_model_module": "@jupyter-widgets/controls",
            "_model_module_version": "1.5.0",
            "_model_name": "ButtonStyleModel",
            "_view_count": null,
            "_view_module": "@jupyter-widgets/base",
            "_view_module_version": "1.2.0",
            "_view_name": "StyleView",
            "button_color": null,
            "font_weight": ""
          }
        },
        "eeee6fd8f2634699b5b01d1ee16008d5": {
          "model_module": "@jupyter-widgets/base",
          "model_name": "LayoutModel",
          "model_module_version": "1.2.0",
          "state": {
            "_model_module": "@jupyter-widgets/base",
            "_model_module_version": "1.2.0",
            "_model_name": "LayoutModel",
            "_view_count": null,
            "_view_module": "@jupyter-widgets/base",
            "_view_module_version": "1.2.0",
            "_view_name": "LayoutView",
            "align_content": null,
            "align_items": null,
            "align_self": null,
            "border": null,
            "bottom": null,
            "display": null,
            "flex": null,
            "flex_flow": null,
            "grid_area": null,
            "grid_auto_columns": null,
            "grid_auto_flow": null,
            "grid_auto_rows": null,
            "grid_column": null,
            "grid_gap": null,
            "grid_row": null,
            "grid_template_areas": null,
            "grid_template_columns": null,
            "grid_template_rows": null,
            "height": null,
            "justify_content": null,
            "justify_items": null,
            "left": null,
            "margin": null,
            "max_height": null,
            "max_width": null,
            "min_height": null,
            "min_width": null,
            "object_fit": null,
            "object_position": null,
            "order": null,
            "overflow": null,
            "overflow_x": null,
            "overflow_y": null,
            "padding": null,
            "right": null,
            "top": null,
            "visibility": null,
            "width": null
          }
        },
        "c67246bccf56404ab79800120da712c6": {
          "model_module": "@jupyter-widgets/controls",
          "model_name": "DescriptionStyleModel",
          "model_module_version": "1.5.0",
          "state": {
            "_model_module": "@jupyter-widgets/controls",
            "_model_module_version": "1.5.0",
            "_model_name": "DescriptionStyleModel",
            "_view_count": null,
            "_view_module": "@jupyter-widgets/base",
            "_view_module_version": "1.2.0",
            "_view_name": "StyleView",
            "description_width": ""
          }
        }
      }
    }
  },
  "cells": [
    {
      "cell_type": "markdown",
      "metadata": {
        "id": "view-in-github",
        "colab_type": "text"
      },
      "source": [
        "<a href=\"https://colab.research.google.com/github/Shreeansh04/weapon_classifier/blob/main/weapon_prod.ipynb\" target=\"_parent\"><img src=\"https://colab.research.google.com/assets/colab-badge.svg\" alt=\"Open In Colab\"/></a>"
      ]
    },
    {
      "cell_type": "code",
      "execution_count": 1,
      "metadata": {
        "colab": {
          "base_uri": "https://localhost:8080/"
        },
        "id": "E0MPty1uCd36",
        "outputId": "06780063-fdff-4125-f415-8c64658a1943"
      },
      "outputs": [
        {
          "output_type": "stream",
          "name": "stdout",
          "text": [
            "\u001b[?25l   \u001b[90m━━━━━━━━━━━━━━━━━━━━━━━━━━━━━━━━━━━━━━━━\u001b[0m \u001b[32m0.0/719.8 kB\u001b[0m \u001b[31m?\u001b[0m eta \u001b[36m-:--:--\u001b[0m\r\u001b[2K   \u001b[91m━━━━━━━━━━━━\u001b[0m\u001b[91m╸\u001b[0m\u001b[90m━━━━━━━━━━━━━━━━━━━━━━━━━━━\u001b[0m \u001b[32m225.3/719.8 kB\u001b[0m \u001b[31m11.7 MB/s\u001b[0m eta \u001b[36m0:00:01\u001b[0m\r\u001b[2K   \u001b[91m━━━━━━━━━━━━━━━━━━━━━━━━━━━━━━━━━━━━━━━\u001b[0m\u001b[91m╸\u001b[0m \u001b[32m716.8/719.8 kB\u001b[0m \u001b[31m11.6 MB/s\u001b[0m eta \u001b[36m0:00:01\u001b[0m\r\u001b[2K   \u001b[91m━━━━━━━━━━━━━━━━━━━━━━━━━━━━━━━━━━━━━━━\u001b[0m\u001b[91m╸\u001b[0m \u001b[32m716.8/719.8 kB\u001b[0m \u001b[31m11.6 MB/s\u001b[0m eta \u001b[36m0:00:01\u001b[0m\r\u001b[2K   \u001b[90m━━━━━━━━━━━━━━━━━━━━━━━━━━━━━━━━━━━━━━━━\u001b[0m \u001b[32m719.8/719.8 kB\u001b[0m \u001b[31m5.2 MB/s\u001b[0m eta \u001b[36m0:00:00\u001b[0m\n",
            "\u001b[2K   \u001b[90m━━━━━━━━━━━━━━━━━━━━━━━━━━━━━━━━━━━━━━━━\u001b[0m \u001b[32m491.4/491.4 kB\u001b[0m \u001b[31m17.6 MB/s\u001b[0m eta \u001b[36m0:00:00\u001b[0m\n",
            "\u001b[2K   \u001b[90m━━━━━━━━━━━━━━━━━━━━━━━━━━━━━━━━━━━━━━━━\u001b[0m \u001b[32m116.3/116.3 kB\u001b[0m \u001b[31m7.2 MB/s\u001b[0m eta \u001b[36m0:00:00\u001b[0m\n",
            "\u001b[2K   \u001b[90m━━━━━━━━━━━━━━━━━━━━━━━━━━━━━━━━━━━━━━━━\u001b[0m \u001b[32m193.6/193.6 kB\u001b[0m \u001b[31m12.6 MB/s\u001b[0m eta \u001b[36m0:00:00\u001b[0m\n",
            "\u001b[2K   \u001b[90m━━━━━━━━━━━━━━━━━━━━━━━━━━━━━━━━━━━━━━━━\u001b[0m \u001b[32m143.5/143.5 kB\u001b[0m \u001b[31m8.2 MB/s\u001b[0m eta \u001b[36m0:00:00\u001b[0m\n",
            "\u001b[2K   \u001b[90m━━━━━━━━━━━━━━━━━━━━━━━━━━━━━━━━━━━━━━━━\u001b[0m \u001b[32m363.4/363.4 MB\u001b[0m \u001b[31m4.3 MB/s\u001b[0m eta \u001b[36m0:00:00\u001b[0m\n",
            "\u001b[2K   \u001b[90m━━━━━━━━━━━━━━━━━━━━━━━━━━━━━━━━━━━━━━━━\u001b[0m \u001b[32m13.8/13.8 MB\u001b[0m \u001b[31m104.1 MB/s\u001b[0m eta \u001b[36m0:00:00\u001b[0m\n",
            "\u001b[2K   \u001b[90m━━━━━━━━━━━━━━━━━━━━━━━━━━━━━━━━━━━━━━━━\u001b[0m \u001b[32m24.6/24.6 MB\u001b[0m \u001b[31m84.5 MB/s\u001b[0m eta \u001b[36m0:00:00\u001b[0m\n",
            "\u001b[2K   \u001b[90m━━━━━━━━━━━━━━━━━━━━━━━━━━━━━━━━━━━━━━━━\u001b[0m \u001b[32m883.7/883.7 kB\u001b[0m \u001b[31m44.0 MB/s\u001b[0m eta \u001b[36m0:00:00\u001b[0m\n",
            "\u001b[2K   \u001b[90m━━━━━━━━━━━━━━━━━━━━━━━━━━━━━━━━━━━━━━━━\u001b[0m \u001b[32m664.8/664.8 MB\u001b[0m \u001b[31m2.0 MB/s\u001b[0m eta \u001b[36m0:00:00\u001b[0m\n",
            "\u001b[2K   \u001b[90m━━━━━━━━━━━━━━━━━━━━━━━━━━━━━━━━━━━━━━━━\u001b[0m \u001b[32m211.5/211.5 MB\u001b[0m \u001b[31m5.8 MB/s\u001b[0m eta \u001b[36m0:00:00\u001b[0m\n",
            "\u001b[2K   \u001b[90m━━━━━━━━━━━━━━━━━━━━━━━━━━━━━━━━━━━━━━━━\u001b[0m \u001b[32m56.3/56.3 MB\u001b[0m \u001b[31m12.0 MB/s\u001b[0m eta \u001b[36m0:00:00\u001b[0m\n",
            "\u001b[2K   \u001b[90m━━━━━━━━━━━━━━━━━━━━━━━━━━━━━━━━━━━━━━━━\u001b[0m \u001b[32m127.9/127.9 MB\u001b[0m \u001b[31m7.4 MB/s\u001b[0m eta \u001b[36m0:00:00\u001b[0m\n",
            "\u001b[2K   \u001b[90m━━━━━━━━━━━━━━━━━━━━━━━━━━━━━━━━━━━━━━━━\u001b[0m \u001b[32m207.5/207.5 MB\u001b[0m \u001b[31m5.8 MB/s\u001b[0m eta \u001b[36m0:00:00\u001b[0m\n",
            "\u001b[2K   \u001b[90m━━━━━━━━━━━━━━━━━━━━━━━━━━━━━━━━━━━━━━━━\u001b[0m \u001b[32m21.1/21.1 MB\u001b[0m \u001b[31m89.4 MB/s\u001b[0m eta \u001b[36m0:00:00\u001b[0m\n",
            "\u001b[2K   \u001b[90m━━━━━━━━━━━━━━━━━━━━━━━━━━━━━━━━━━━━━━━━\u001b[0m \u001b[32m194.8/194.8 kB\u001b[0m \u001b[31m21.1 MB/s\u001b[0m eta \u001b[36m0:00:00\u001b[0m\n",
            "\u001b[2K   \u001b[90m━━━━━━━━━━━━━━━━━━━━━━━━━━━━━━━━━━━━━━━━\u001b[0m \u001b[32m1.6/1.6 MB\u001b[0m \u001b[31m79.1 MB/s\u001b[0m eta \u001b[36m0:00:00\u001b[0m\n",
            "\u001b[?25h\u001b[31mERROR: pip's dependency resolver does not currently take into account all the packages that are installed. This behaviour is the source of the following dependency conflicts.\n",
            "gcsfs 2025.3.2 requires fsspec==2025.3.2, but you have fsspec 2025.3.0 which is incompatible.\u001b[0m\u001b[31m\n",
            "\u001b[0mMounted at /content/gdrive\n"
          ]
        }
      ],
      "source": [
        "! [ -e /content ] && pip install -Uqq fastbook\n",
        "import fastbook\n",
        "fastbook.setup_book()"
      ]
    },
    {
      "cell_type": "code",
      "source": [
        "from fastai.vision.all import *\n",
        "from fastai.vision.widgets import *\n",
        "from ipywidgets import widgets\n",
        "from pandas.api.types import CategoricalDtype\n",
        "import matplotlib as mpl\n",
        "import json\n",
        "from fastbook import *"
      ],
      "metadata": {
        "id": "YUiEiBMdEI_g"
      },
      "execution_count": 2,
      "outputs": []
    },
    {
      "cell_type": "code",
      "source": [
        "path = Path()\n",
        "path.ls(file_exts='.pkl')"
      ],
      "metadata": {
        "colab": {
          "base_uri": "https://localhost:8080/"
        },
        "id": "ys4Jnf2wEKq7",
        "outputId": "18264ffa-4cc9-4456-84a7-787f4bd4918b"
      },
      "execution_count": 4,
      "outputs": [
        {
          "output_type": "execute_result",
          "data": {
            "text/plain": [
              "(#1) [Path('export.pkl')]"
            ]
          },
          "metadata": {},
          "execution_count": 4
        }
      ]
    },
    {
      "cell_type": "code",
      "source": [
        "learn_inf = load_learner(path/'export.pkl')"
      ],
      "metadata": {
        "colab": {
          "base_uri": "https://localhost:8080/"
        },
        "id": "V7sExaxoE3yw",
        "outputId": "3863d4de-9b8f-475f-9512-14a2d5b994c4"
      },
      "execution_count": 5,
      "outputs": [
        {
          "output_type": "stream",
          "name": "stderr",
          "text": [
            "/usr/local/lib/python3.11/dist-packages/fastai/learner.py:455: UserWarning: load_learner` uses Python's insecure pickle module, which can execute malicious arbitrary code when loading. Only load files you trust.\n",
            "If you only need to load model weights and optimizer state, use the safe `Learner.load` instead.\n",
            "  warn(\"load_learner` uses Python's insecure pickle module, which can execute malicious arbitrary code when loading. Only load files you trust.\\nIf you only need to load model weights and optimizer state, use the safe `Learner.load` instead.\")\n"
          ]
        }
      ]
    },
    {
      "cell_type": "code",
      "source": [
        "btn_upload = SimpleNamespace(data = ['images/gun.jpeg'])"
      ],
      "metadata": {
        "id": "iP9IQ8ZhE_Xv"
      },
      "execution_count": 6,
      "outputs": []
    },
    {
      "cell_type": "code",
      "source": [
        "img = PILImage.create(btn_upload.data[-1])"
      ],
      "metadata": {
        "id": "TnP-p-jeFQbr"
      },
      "execution_count": 7,
      "outputs": []
    },
    {
      "cell_type": "code",
      "source": [
        "out_pl = widgets.Output()\n",
        "out_pl.clear_output()\n",
        "with out_pl: display(img.to_thumb(128,128))\n",
        "out_pl"
      ],
      "metadata": {
        "colab": {
          "base_uri": "https://localhost:8080/",
          "height": 105,
          "referenced_widgets": [
            "1b8e9abd9b62438abb20d3ed642d6776",
            "0f14464fc95a499eb221e2941bd6a190"
          ]
        },
        "id": "9sRkBAxqFV-G",
        "outputId": "b2b249af-44ef-4cb6-f06c-83b184d1b879"
      },
      "execution_count": 8,
      "outputs": [
        {
          "output_type": "display_data",
          "data": {
            "text/plain": [
              "Output()"
            ],
            "application/vnd.jupyter.widget-view+json": {
              "version_major": 2,
              "version_minor": 0,
              "model_id": "1b8e9abd9b62438abb20d3ed642d6776"
            }
          },
          "metadata": {}
        }
      ]
    },
    {
      "cell_type": "code",
      "source": [
        "lbl_pred = widgets.Label()"
      ],
      "metadata": {
        "id": "I2mkwWnOFYCB"
      },
      "execution_count": 9,
      "outputs": []
    },
    {
      "cell_type": "code",
      "source": [
        "btn_run = widgets.Button(description='Classify')\n",
        "btn_run"
      ],
      "metadata": {
        "colab": {
          "base_uri": "https://localhost:8080/",
          "height": 49,
          "referenced_widgets": [
            "023c217e90a14453a4bddc33695ca988",
            "ad01d7b020a44b4f8f00ce6a201ca07e",
            "d1c6be4ddbdc4dfaba190cc0573f5163"
          ]
        },
        "id": "_WJ5lXmLFgDJ",
        "outputId": "f5d194d4-405c-43c4-ef5c-65bc2e1a2b9b"
      },
      "execution_count": 10,
      "outputs": [
        {
          "output_type": "display_data",
          "data": {
            "text/plain": [
              "Button(description='Classify', style=ButtonStyle())"
            ],
            "application/vnd.jupyter.widget-view+json": {
              "version_major": 2,
              "version_minor": 0,
              "model_id": "023c217e90a14453a4bddc33695ca988"
            }
          },
          "metadata": {}
        }
      ]
    },
    {
      "cell_type": "code",
      "source": [
        "def on_click_classify(change):\n",
        "    img = PILImage.create(btn_upload.data[-1])\n",
        "    out_pl.clear_output()\n",
        "    with out_pl: display(img.to_thumb(128,128))\n",
        "    pred,pred_idx,probs = learn_inf.predict(img)\n",
        "    lbl_pred.value = f'Prediction: {pred}; Probability: {probs[pred_idx]:.04f}'\n",
        "\n",
        "btn_run.on_click(on_click_classify)"
      ],
      "metadata": {
        "id": "hlMt_wP_Fhd5"
      },
      "execution_count": 11,
      "outputs": []
    },
    {
      "cell_type": "code",
      "source": [
        "btn_upload = widgets.FileUpload()"
      ],
      "metadata": {
        "id": "U6LlzUnYFjE_"
      },
      "execution_count": 12,
      "outputs": []
    },
    {
      "cell_type": "code",
      "source": [
        "VBox([widgets.Label('Select your weapon!'),\n",
        "      btn_upload, btn_run, out_pl, lbl_pred])"
      ],
      "metadata": {
        "colab": {
          "base_uri": "https://localhost:8080/",
          "height": 233,
          "referenced_widgets": [
            "ac6645fd62f94d6c942d06c1b223fff8",
            "975572900e2b4b1dab360bb32954251e",
            "6d833be5113540d993da02a66001cdb8",
            "023c217e90a14453a4bddc33695ca988",
            "1b8e9abd9b62438abb20d3ed642d6776",
            "7ed1821a9e1646a9ad88e7cac6afd577",
            "54f69f85122d45b9be4251e67da5df29",
            "95f11bf9d3fb45cebc20ee81180fc172",
            "69814e7178a34cbc84151a202e5dc345",
            "a805909fbf1249ceafc61a810d60a507",
            "a233273f7eae4974951c1c263d05be33",
            "ad01d7b020a44b4f8f00ce6a201ca07e",
            "d1c6be4ddbdc4dfaba190cc0573f5163",
            "eeee6fd8f2634699b5b01d1ee16008d5",
            "c67246bccf56404ab79800120da712c6",
            "0f14464fc95a499eb221e2941bd6a190"
          ]
        },
        "id": "cbw8ZR7mFnm5",
        "outputId": "cbbda1dd-cc0a-47ad-9ce1-ae8f6137a8f5"
      },
      "execution_count": 13,
      "outputs": [
        {
          "output_type": "display_data",
          "data": {
            "text/plain": [
              "VBox(children=(Label(value='Select your weapon!'), FileUpload(value={}, description='Upload'), Button(descript…"
            ],
            "application/vnd.jupyter.widget-view+json": {
              "version_major": 2,
              "version_minor": 0,
              "model_id": "ac6645fd62f94d6c942d06c1b223fff8"
            }
          },
          "metadata": {}
        }
      ]
    },
    {
      "cell_type": "code",
      "source": [
        "!pip install voila\n",
        "!jupyter serverextension enable --sys-prefix voila"
      ],
      "metadata": {
        "colab": {
          "base_uri": "https://localhost:8080/"
        },
        "id": "3FpR7DdkFpqz",
        "outputId": "cdcb1b67-773f-4a5c-ffda-9a08612749fd"
      },
      "execution_count": 14,
      "outputs": [
        {
          "output_type": "stream",
          "name": "stdout",
          "text": [
            "Collecting voila\n",
            "  Downloading voila-0.5.8-py3-none-any.whl.metadata (9.5 kB)\n",
            "Collecting jupyter-client<9,>=7.4.4 (from voila)\n",
            "  Downloading jupyter_client-8.6.3-py3-none-any.whl.metadata (8.3 kB)\n",
            "Requirement already satisfied: jupyter-core>=4.11.0 in /usr/local/lib/python3.11/dist-packages (from voila) (5.7.2)\n",
            "Collecting jupyter-server<3,>=1.18 (from voila)\n",
            "  Downloading jupyter_server-2.15.0-py3-none-any.whl.metadata (8.4 kB)\n",
            "Collecting jupyterlab-server<3,>=2.3.0 (from voila)\n",
            "  Downloading jupyterlab_server-2.27.3-py3-none-any.whl.metadata (5.9 kB)\n",
            "Requirement already satisfied: nbclient>=0.4.0 in /usr/local/lib/python3.11/dist-packages (from voila) (0.10.2)\n",
            "Requirement already satisfied: nbconvert<8,>=6.4.5 in /usr/local/lib/python3.11/dist-packages (from voila) (7.16.6)\n",
            "Requirement already satisfied: traitlets<6,>=5.0.3 in /usr/local/lib/python3.11/dist-packages (from voila) (5.7.1)\n",
            "Requirement already satisfied: websockets>=9.0 in /usr/local/lib/python3.11/dist-packages (from voila) (15.0.1)\n",
            "Requirement already satisfied: python-dateutil>=2.8.2 in /usr/local/lib/python3.11/dist-packages (from jupyter-client<9,>=7.4.4->voila) (2.9.0.post0)\n",
            "Requirement already satisfied: pyzmq>=23.0 in /usr/local/lib/python3.11/dist-packages (from jupyter-client<9,>=7.4.4->voila) (24.0.1)\n",
            "Requirement already satisfied: tornado>=6.2 in /usr/local/lib/python3.11/dist-packages (from jupyter-client<9,>=7.4.4->voila) (6.4.2)\n",
            "Requirement already satisfied: platformdirs>=2.5 in /usr/local/lib/python3.11/dist-packages (from jupyter-core>=4.11.0->voila) (4.3.7)\n",
            "Requirement already satisfied: anyio>=3.1.0 in /usr/local/lib/python3.11/dist-packages (from jupyter-server<3,>=1.18->voila) (4.9.0)\n",
            "Requirement already satisfied: argon2-cffi>=21.1 in /usr/local/lib/python3.11/dist-packages (from jupyter-server<3,>=1.18->voila) (23.1.0)\n",
            "Requirement already satisfied: jinja2>=3.0.3 in /usr/local/lib/python3.11/dist-packages (from jupyter-server<3,>=1.18->voila) (3.1.6)\n",
            "Collecting jupyter-events>=0.11.0 (from jupyter-server<3,>=1.18->voila)\n",
            "  Downloading jupyter_events-0.12.0-py3-none-any.whl.metadata (5.8 kB)\n",
            "Collecting jupyter-server-terminals>=0.4.4 (from jupyter-server<3,>=1.18->voila)\n",
            "  Downloading jupyter_server_terminals-0.5.3-py3-none-any.whl.metadata (5.6 kB)\n",
            "Requirement already satisfied: nbformat>=5.3.0 in /usr/local/lib/python3.11/dist-packages (from jupyter-server<3,>=1.18->voila) (5.10.4)\n",
            "Collecting overrides>=5.0 (from jupyter-server<3,>=1.18->voila)\n",
            "  Downloading overrides-7.7.0-py3-none-any.whl.metadata (5.8 kB)\n",
            "Requirement already satisfied: packaging>=22.0 in /usr/local/lib/python3.11/dist-packages (from jupyter-server<3,>=1.18->voila) (24.2)\n",
            "Requirement already satisfied: prometheus-client>=0.9 in /usr/local/lib/python3.11/dist-packages (from jupyter-server<3,>=1.18->voila) (0.21.1)\n",
            "Requirement already satisfied: send2trash>=1.8.2 in /usr/local/lib/python3.11/dist-packages (from jupyter-server<3,>=1.18->voila) (1.8.3)\n",
            "Requirement already satisfied: terminado>=0.8.3 in /usr/local/lib/python3.11/dist-packages (from jupyter-server<3,>=1.18->voila) (0.18.1)\n",
            "Requirement already satisfied: websocket-client>=1.7 in /usr/local/lib/python3.11/dist-packages (from jupyter-server<3,>=1.18->voila) (1.8.0)\n",
            "Requirement already satisfied: babel>=2.10 in /usr/local/lib/python3.11/dist-packages (from jupyterlab-server<3,>=2.3.0->voila) (2.17.0)\n",
            "Collecting json5>=0.9.0 (from jupyterlab-server<3,>=2.3.0->voila)\n",
            "  Downloading json5-0.12.0-py3-none-any.whl.metadata (36 kB)\n",
            "Requirement already satisfied: jsonschema>=4.18.0 in /usr/local/lib/python3.11/dist-packages (from jupyterlab-server<3,>=2.3.0->voila) (4.23.0)\n",
            "Requirement already satisfied: requests>=2.31 in /usr/local/lib/python3.11/dist-packages (from jupyterlab-server<3,>=2.3.0->voila) (2.32.3)\n",
            "Requirement already satisfied: beautifulsoup4 in /usr/local/lib/python3.11/dist-packages (from nbconvert<8,>=6.4.5->voila) (4.13.4)\n",
            "Requirement already satisfied: bleach!=5.0.0 in /usr/local/lib/python3.11/dist-packages (from bleach[css]!=5.0.0->nbconvert<8,>=6.4.5->voila) (6.2.0)\n",
            "Requirement already satisfied: defusedxml in /usr/local/lib/python3.11/dist-packages (from nbconvert<8,>=6.4.5->voila) (0.7.1)\n",
            "Requirement already satisfied: jupyterlab-pygments in /usr/local/lib/python3.11/dist-packages (from nbconvert<8,>=6.4.5->voila) (0.3.0)\n",
            "Requirement already satisfied: markupsafe>=2.0 in /usr/local/lib/python3.11/dist-packages (from nbconvert<8,>=6.4.5->voila) (3.0.2)\n",
            "Requirement already satisfied: mistune<4,>=2.0.3 in /usr/local/lib/python3.11/dist-packages (from nbconvert<8,>=6.4.5->voila) (3.1.3)\n",
            "Requirement already satisfied: pandocfilters>=1.4.1 in /usr/local/lib/python3.11/dist-packages (from nbconvert<8,>=6.4.5->voila) (1.5.1)\n",
            "Requirement already satisfied: pygments>=2.4.1 in /usr/local/lib/python3.11/dist-packages (from nbconvert<8,>=6.4.5->voila) (2.19.1)\n",
            "Requirement already satisfied: idna>=2.8 in /usr/local/lib/python3.11/dist-packages (from anyio>=3.1.0->jupyter-server<3,>=1.18->voila) (3.10)\n",
            "Requirement already satisfied: sniffio>=1.1 in /usr/local/lib/python3.11/dist-packages (from anyio>=3.1.0->jupyter-server<3,>=1.18->voila) (1.3.1)\n",
            "Requirement already satisfied: typing_extensions>=4.5 in /usr/local/lib/python3.11/dist-packages (from anyio>=3.1.0->jupyter-server<3,>=1.18->voila) (4.13.2)\n",
            "Requirement already satisfied: argon2-cffi-bindings in /usr/local/lib/python3.11/dist-packages (from argon2-cffi>=21.1->jupyter-server<3,>=1.18->voila) (21.2.0)\n",
            "Requirement already satisfied: webencodings in /usr/local/lib/python3.11/dist-packages (from bleach!=5.0.0->bleach[css]!=5.0.0->nbconvert<8,>=6.4.5->voila) (0.5.1)\n",
            "Requirement already satisfied: tinycss2<1.5,>=1.1.0 in /usr/local/lib/python3.11/dist-packages (from bleach[css]!=5.0.0->nbconvert<8,>=6.4.5->voila) (1.4.0)\n",
            "Requirement already satisfied: attrs>=22.2.0 in /usr/local/lib/python3.11/dist-packages (from jsonschema>=4.18.0->jupyterlab-server<3,>=2.3.0->voila) (25.3.0)\n",
            "Requirement already satisfied: jsonschema-specifications>=2023.03.6 in /usr/local/lib/python3.11/dist-packages (from jsonschema>=4.18.0->jupyterlab-server<3,>=2.3.0->voila) (2025.4.1)\n",
            "Requirement already satisfied: referencing>=0.28.4 in /usr/local/lib/python3.11/dist-packages (from jsonschema>=4.18.0->jupyterlab-server<3,>=2.3.0->voila) (0.36.2)\n",
            "Requirement already satisfied: rpds-py>=0.7.1 in /usr/local/lib/python3.11/dist-packages (from jsonschema>=4.18.0->jupyterlab-server<3,>=2.3.0->voila) (0.24.0)\n",
            "Collecting python-json-logger>=2.0.4 (from jupyter-events>=0.11.0->jupyter-server<3,>=1.18->voila)\n",
            "  Downloading python_json_logger-3.3.0-py3-none-any.whl.metadata (4.0 kB)\n",
            "Requirement already satisfied: pyyaml>=5.3 in /usr/local/lib/python3.11/dist-packages (from jupyter-events>=0.11.0->jupyter-server<3,>=1.18->voila) (6.0.2)\n",
            "Collecting rfc3339-validator (from jupyter-events>=0.11.0->jupyter-server<3,>=1.18->voila)\n",
            "  Downloading rfc3339_validator-0.1.4-py2.py3-none-any.whl.metadata (1.5 kB)\n",
            "Collecting rfc3986-validator>=0.1.1 (from jupyter-events>=0.11.0->jupyter-server<3,>=1.18->voila)\n",
            "  Downloading rfc3986_validator-0.1.1-py2.py3-none-any.whl.metadata (1.7 kB)\n",
            "Requirement already satisfied: fastjsonschema>=2.15 in /usr/local/lib/python3.11/dist-packages (from nbformat>=5.3.0->jupyter-server<3,>=1.18->voila) (2.21.1)\n",
            "Requirement already satisfied: six>=1.5 in /usr/local/lib/python3.11/dist-packages (from python-dateutil>=2.8.2->jupyter-client<9,>=7.4.4->voila) (1.17.0)\n",
            "Requirement already satisfied: charset-normalizer<4,>=2 in /usr/local/lib/python3.11/dist-packages (from requests>=2.31->jupyterlab-server<3,>=2.3.0->voila) (3.4.1)\n",
            "Requirement already satisfied: urllib3<3,>=1.21.1 in /usr/local/lib/python3.11/dist-packages (from requests>=2.31->jupyterlab-server<3,>=2.3.0->voila) (2.4.0)\n",
            "Requirement already satisfied: certifi>=2017.4.17 in /usr/local/lib/python3.11/dist-packages (from requests>=2.31->jupyterlab-server<3,>=2.3.0->voila) (2025.4.26)\n",
            "Requirement already satisfied: ptyprocess in /usr/local/lib/python3.11/dist-packages (from terminado>=0.8.3->jupyter-server<3,>=1.18->voila) (0.7.0)\n",
            "Requirement already satisfied: soupsieve>1.2 in /usr/local/lib/python3.11/dist-packages (from beautifulsoup4->nbconvert<8,>=6.4.5->voila) (2.7)\n",
            "Collecting fqdn (from jsonschema[format-nongpl]>=4.18.0->jupyter-events>=0.11.0->jupyter-server<3,>=1.18->voila)\n",
            "  Downloading fqdn-1.5.1-py3-none-any.whl.metadata (1.4 kB)\n",
            "Collecting isoduration (from jsonschema[format-nongpl]>=4.18.0->jupyter-events>=0.11.0->jupyter-server<3,>=1.18->voila)\n",
            "  Downloading isoduration-20.11.0-py3-none-any.whl.metadata (5.7 kB)\n",
            "Requirement already satisfied: jsonpointer>1.13 in /usr/local/lib/python3.11/dist-packages (from jsonschema[format-nongpl]>=4.18.0->jupyter-events>=0.11.0->jupyter-server<3,>=1.18->voila) (3.0.0)\n",
            "Collecting uri-template (from jsonschema[format-nongpl]>=4.18.0->jupyter-events>=0.11.0->jupyter-server<3,>=1.18->voila)\n",
            "  Downloading uri_template-1.3.0-py3-none-any.whl.metadata (8.8 kB)\n",
            "Requirement already satisfied: webcolors>=24.6.0 in /usr/local/lib/python3.11/dist-packages (from jsonschema[format-nongpl]>=4.18.0->jupyter-events>=0.11.0->jupyter-server<3,>=1.18->voila) (24.11.1)\n",
            "Requirement already satisfied: cffi>=1.0.1 in /usr/local/lib/python3.11/dist-packages (from argon2-cffi-bindings->argon2-cffi>=21.1->jupyter-server<3,>=1.18->voila) (1.17.1)\n",
            "Requirement already satisfied: pycparser in /usr/local/lib/python3.11/dist-packages (from cffi>=1.0.1->argon2-cffi-bindings->argon2-cffi>=21.1->jupyter-server<3,>=1.18->voila) (2.22)\n",
            "Collecting arrow>=0.15.0 (from isoduration->jsonschema[format-nongpl]>=4.18.0->jupyter-events>=0.11.0->jupyter-server<3,>=1.18->voila)\n",
            "  Downloading arrow-1.3.0-py3-none-any.whl.metadata (7.5 kB)\n",
            "Collecting types-python-dateutil>=2.8.10 (from arrow>=0.15.0->isoduration->jsonschema[format-nongpl]>=4.18.0->jupyter-events>=0.11.0->jupyter-server<3,>=1.18->voila)\n",
            "  Downloading types_python_dateutil-2.9.0.20241206-py3-none-any.whl.metadata (2.1 kB)\n",
            "Downloading voila-0.5.8-py3-none-any.whl (4.5 MB)\n",
            "\u001b[2K   \u001b[90m━━━━━━━━━━━━━━━━━━━━━━━━━━━━━━━━━━━━━━━━\u001b[0m \u001b[32m4.5/4.5 MB\u001b[0m \u001b[31m33.3 MB/s\u001b[0m eta \u001b[36m0:00:00\u001b[0m\n",
            "\u001b[?25hDownloading jupyter_client-8.6.3-py3-none-any.whl (106 kB)\n",
            "\u001b[2K   \u001b[90m━━━━━━━━━━━━━━━━━━━━━━━━━━━━━━━━━━━━━━━━\u001b[0m \u001b[32m106.1/106.1 kB\u001b[0m \u001b[31m8.0 MB/s\u001b[0m eta \u001b[36m0:00:00\u001b[0m\n",
            "\u001b[?25hDownloading jupyter_server-2.15.0-py3-none-any.whl (385 kB)\n",
            "\u001b[2K   \u001b[90m━━━━━━━━━━━━━━━━━━━━━━━━━━━━━━━━━━━━━━━━\u001b[0m \u001b[32m385.8/385.8 kB\u001b[0m \u001b[31m28.7 MB/s\u001b[0m eta \u001b[36m0:00:00\u001b[0m\n",
            "\u001b[?25hDownloading jupyterlab_server-2.27.3-py3-none-any.whl (59 kB)\n",
            "\u001b[2K   \u001b[90m━━━━━━━━━━━━━━━━━━━━━━━━━━━━━━━━━━━━━━━━\u001b[0m \u001b[32m59.7/59.7 kB\u001b[0m \u001b[31m5.6 MB/s\u001b[0m eta \u001b[36m0:00:00\u001b[0m\n",
            "\u001b[?25hDownloading json5-0.12.0-py3-none-any.whl (36 kB)\n",
            "Downloading jupyter_events-0.12.0-py3-none-any.whl (19 kB)\n",
            "Downloading jupyter_server_terminals-0.5.3-py3-none-any.whl (13 kB)\n",
            "Downloading overrides-7.7.0-py3-none-any.whl (17 kB)\n",
            "Downloading python_json_logger-3.3.0-py3-none-any.whl (15 kB)\n",
            "Downloading rfc3986_validator-0.1.1-py2.py3-none-any.whl (4.2 kB)\n",
            "Downloading rfc3339_validator-0.1.4-py2.py3-none-any.whl (3.5 kB)\n",
            "Downloading fqdn-1.5.1-py3-none-any.whl (9.1 kB)\n",
            "Downloading isoduration-20.11.0-py3-none-any.whl (11 kB)\n",
            "Downloading uri_template-1.3.0-py3-none-any.whl (11 kB)\n",
            "Downloading arrow-1.3.0-py3-none-any.whl (66 kB)\n",
            "\u001b[2K   \u001b[90m━━━━━━━━━━━━━━━━━━━━━━━━━━━━━━━━━━━━━━━━\u001b[0m \u001b[32m66.4/66.4 kB\u001b[0m \u001b[31m6.0 MB/s\u001b[0m eta \u001b[36m0:00:00\u001b[0m\n",
            "\u001b[?25hDownloading types_python_dateutil-2.9.0.20241206-py3-none-any.whl (14 kB)\n",
            "Installing collected packages: uri-template, types-python-dateutil, rfc3986-validator, rfc3339-validator, python-json-logger, overrides, json5, fqdn, jupyter-server-terminals, jupyter-client, arrow, isoduration, jupyter-events, jupyter-server, jupyterlab-server, voila\n",
            "  Attempting uninstall: jupyter-client\n",
            "    Found existing installation: jupyter-client 6.1.12\n",
            "    Uninstalling jupyter-client-6.1.12:\n",
            "      Successfully uninstalled jupyter-client-6.1.12\n",
            "  Attempting uninstall: jupyter-server\n",
            "    Found existing installation: jupyter-server 1.16.0\n",
            "    Uninstalling jupyter-server-1.16.0:\n",
            "      Successfully uninstalled jupyter-server-1.16.0\n",
            "\u001b[31mERROR: pip's dependency resolver does not currently take into account all the packages that are installed. This behaviour is the source of the following dependency conflicts.\n",
            "notebook 6.5.7 requires jupyter-client<8,>=5.3.4, but you have jupyter-client 8.6.3 which is incompatible.\n",
            "jupyter-kernel-gateway 2.5.2 requires jupyter-client<8.0,>=5.2.0, but you have jupyter-client 8.6.3 which is incompatible.\u001b[0m\u001b[31m\n",
            "\u001b[0mSuccessfully installed arrow-1.3.0 fqdn-1.5.1 isoduration-20.11.0 json5-0.12.0 jupyter-client-8.6.3 jupyter-events-0.12.0 jupyter-server-2.15.0 jupyter-server-terminals-0.5.3 jupyterlab-server-2.27.3 overrides-7.7.0 python-json-logger-3.3.0 rfc3339-validator-0.1.4 rfc3986-validator-0.1.1 types-python-dateutil-2.9.0.20241206 uri-template-1.3.0 voila-0.5.8\n",
            "Enabling: voila\n",
            "- Writing config: /usr/etc/jupyter\n",
            "    - Validating...\n",
            "      voila 0.5.8 \u001b[32mOK\u001b[0m\n"
          ]
        }
      ]
    },
    {
      "cell_type": "code",
      "source": [],
      "metadata": {
        "id": "PoZWZbs7Fudo"
      },
      "execution_count": null,
      "outputs": []
    }
  ]
}